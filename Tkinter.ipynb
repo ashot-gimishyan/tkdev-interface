{
 "cells": [
  {
   "cell_type": "code",
   "execution_count": 2,
   "id": "fd5c65c0",
   "metadata": {},
   "outputs": [
    {
     "data": {
      "text/plain": [
       "'8.6.11'"
      ]
     },
     "execution_count": 2,
     "metadata": {},
     "output_type": "execute_result"
    }
   ],
   "source": [
    "import tkinter\n",
    "tkinter.Tcl().eval(\"info patchlevel\")"
   ]
  },
  {
   "cell_type": "code",
   "execution_count": 3,
   "id": "97e8c166",
   "metadata": {},
   "outputs": [],
   "source": [
    "from tkinter import *"
   ]
  },
  {
   "cell_type": "code",
   "execution_count": 4,
   "id": "5c23ef22",
   "metadata": {},
   "outputs": [],
   "source": [
    "root = Tk()"
   ]
  },
  {
   "cell_type": "code",
   "execution_count": 5,
   "id": "c1271994",
   "metadata": {},
   "outputs": [
    {
     "data": {
      "text/plain": [
       "''"
      ]
     },
     "execution_count": 5,
     "metadata": {},
     "output_type": "execute_result"
    }
   ],
   "source": [
    "root.title(\"Приложение на Tkinter\")\n",
    "root.geometry(\"300x250\")"
   ]
  },
  {
   "cell_type": "code",
   "execution_count": 6,
   "id": "2a112eb1",
   "metadata": {},
   "outputs": [],
   "source": [
    "label = Label(text=\"Hello METANIT.COM\")\n",
    "label.pack()"
   ]
  },
  {
   "cell_type": "code",
   "execution_count": 7,
   "id": "2d8f485a",
   "metadata": {},
   "outputs": [],
   "source": [
    "root.mainloop()"
   ]
  },
  {
   "cell_type": "code",
   "execution_count": null,
   "id": "c11c4e3d",
   "metadata": {},
   "outputs": [],
   "source": []
  }
 ],
 "metadata": {
  "kernelspec": {
   "display_name": "Python 3 (ipykernel)",
   "language": "python",
   "name": "python3"
  },
  "language_info": {
   "codemirror_mode": {
    "name": "ipython",
    "version": 3
   },
   "file_extension": ".py",
   "mimetype": "text/x-python",
   "name": "python",
   "nbconvert_exporter": "python",
   "pygments_lexer": "ipython3",
   "version": "3.9.7"
  }
 },
 "nbformat": 4,
 "nbformat_minor": 5
}
